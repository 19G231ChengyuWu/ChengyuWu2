{
 "cells": [
  {
   "cell_type": "code",
   "execution_count": 1,
   "id": "a30dd1f5-be65-48cc-9b93-0781f6cbfaa0",
   "metadata": {},
   "outputs": [
    {
     "name": "stdout",
     "output_type": "stream",
     "text": [
      "Entropy of the first split: 0.5889187667244618\n",
      "Gini of the first split: 0.32550820073530584\n",
      "Misclassification Error of the first split: 0.2767203513909224\n",
      "Information Gain: 0.5889187667244618\n",
      "Feature selected for the first split: uniformity_of_cell_size\n",
      "Value determining the decision boundary: 2.5\n"
     ]
    }
   ],
   "source": [
    "import pandas as pd\n",
    "from sklearn.tree import DecisionTreeClassifier\n",
    "from sklearn.preprocessing import LabelEncoder\n",
    "import numpy as np\n",
    "url = 'https://archive.ics.uci.edu/ml/machine-learning-databases/breast-cancer-wisconsin/breast-cancer-wisconsin.data'\n",
    "column_names = ['id', 'clump_thickness', 'uniformity_of_cell_size', 'uniformity_of_cell_shape',\n",
    "                'marginal_adhesion', 'single_epithelial_cell_size', 'bare_nuclei',\n",
    "                'bland_chromatin', 'normal_nucleoli', 'mitoses', 'class']\n",
    "df = pd.read_csv(url, names=column_names)\n",
    "df = df.replace('?', np.nan)\n",
    "df = df.dropna()\n",
    "le = LabelEncoder()\n",
    "df['class'] = le.fit_transform(df['class'])\n",
    "X = df.drop(['id', 'class'], axis=1)\n",
    "y = df['class']\n",
    "clf = DecisionTreeClassifier(min_samples_leaf=2, min_samples_split=5, max_depth=2)\n",
    "clf.fit(X, y)\n",
    "feature_index = clf.tree_.feature[0]\n",
    "threshold = clf.tree_.threshold[0]\n",
    "feature_name = X.columns[feature_index]\n",
    "def entropy(y):\n",
    "    classes, counts = np.unique(y, return_counts=True)\n",
    "    probabilities = counts / len(y)\n",
    "    return -np.sum(probabilities * np.log2(probabilities))\n",
    "def gini(y):\n",
    "    classes, counts = np.unique(y, return_counts=True)\n",
    "    probabilities = counts / len(y)\n",
    "    return 1 - np.sum(probabilities**2)\n",
    "def misclassification_error(y):\n",
    "    classes, counts = np.unique(y, return_counts=True)\n",
    "    probabilities = counts / len(y)\n",
    "    return 1 - np.max(probabilities)\n",
    "parent_entropy = entropy(y)\n",
    "parent_gini = gini(y)\n",
    "parent_misclassification = misclassification_error(y)\n",
    "left_indices = X[feature_name] <= threshold\n",
    "right_indices = X[feature_name] > threshold\n",
    "left_y = y[left_indices]\n",
    "right_y = y[right_indices]\n",
    "left_entropy = entropy(left_y)\n",
    "right_entropy = entropy(right_y)\n",
    "left_gini = gini(left_y)\n",
    "right_gini = gini(right_y)\n",
    "left_misclassification = misclassification_error(left_y)\n",
    "right_misclassification = misclassification_error(right_y)\n",
    "entropy_gain = parent_entropy - (len(left_y) / len(y) * left_entropy + len(right_y) / len(y) * right_entropy)\n",
    "gini_gain = parent_gini - (len(left_y) / len(y) * left_gini + len(right_y) / len(y) * right_gini)\n",
    "misclassification_gain = parent_misclassification - (len(left_y) / len(y) * left_misclassification + len(right_y) / len(y) * right_misclassification)\n",
    "\n",
    "print(f\"Entropy of the first split: {entropy_gain}\")\n",
    "print(f\"Gini of the first split: {gini_gain}\")\n",
    "print(f\"Misclassification Error of the first split: {misclassification_gain}\")\n",
    "print(f\"Information Gain: {entropy_gain}\")\n",
    "print(f\"Feature selected for the first split: {feature_name}\")\n",
    "print(f\"Value determining the decision boundary: {threshold}\")"
   ]
  },
  {
   "cell_type": "code",
   "execution_count": null,
   "id": "291032b3-f99d-40d2-bdb1-4cc6d9dcdbf3",
   "metadata": {},
   "outputs": [],
   "source": []
  }
 ],
 "metadata": {
  "kernelspec": {
   "display_name": "Python 3 (ipykernel)",
   "language": "python",
   "name": "python3"
  },
  "language_info": {
   "codemirror_mode": {
    "name": "ipython",
    "version": 3
   },
   "file_extension": ".py",
   "mimetype": "text/x-python",
   "name": "python",
   "nbconvert_exporter": "python",
   "pygments_lexer": "ipython3",
   "version": "3.11.7"
  }
 },
 "nbformat": 4,
 "nbformat_minor": 5
}
