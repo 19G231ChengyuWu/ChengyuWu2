{
 "cells": [
  {
   "cell_type": "code",
   "execution_count": 1,
   "id": "08f1a7ef-7f66-4d02-813c-997c664c32ef",
   "metadata": {},
   "outputs": [
    {
     "name": "stdout",
     "output_type": "stream",
     "text": [
      "Depth with the highest recall: 2\n",
      "Reason: A higher depth might allow the tree to capture more complex patterns in the data, leading to better identification of positive cases and thus higher recall.\n",
      "Depth with the lowest precision: 1\n",
      "Reason: A very deep tree might overfit the training data, leading to false positives and thus lower precision.\n",
      "Depth with the best F1 score: 2\n",
      "Micro: Calculates metrics globally by counting the total true positives, false negatives, and false positives. It gives equal weight to each individual prediction.\n",
      "Macro: Calculates metrics for each class separately and then takes the unweighted average. It treats all classes equally, regardless of their prevalence.\n",
      "Weighted: Calculates metrics for each class separately and then takes the average, weighted by the number of samples in each class. It is useful when dealing with imbalanced datasets.\n"
     ]
    }
   ],
   "source": [
    "import pandas as pd\n",
    "from sklearn.datasets import load_iris\n",
    "from sklearn.tree import DecisionTreeClassifier\n",
    "from sklearn.model_selection import train_test_split\n",
    "from sklearn.metrics import recall_score, precision_score, f1_score\n",
    "import numpy as np\n",
    "iris = load_iris()\n",
    "iris_df = pd.DataFrame(data=np.c_[iris['data'], iris['target']],\n",
    "                       columns=iris['feature_names'] + ['target'])\n",
    "X = iris_df.drop('target', axis=1)\n",
    "y = iris_df['target']\n",
    "X_train, X_test, y_train, y_test = train_test_split(X, y, test_size=0.3, random_state=42)\n",
    "recall_scores = []\n",
    "precision_scores = []\n",
    "f1_scores = []\n",
    "for depth in range(1, 6):\n",
    "    clf = DecisionTreeClassifier(min_samples_leaf=2, min_samples_split=5, max_depth=depth)\n",
    "    clf.fit(X_train, y_train)\n",
    "    y_pred = clf.predict(X_test)\n",
    "    recall = recall_score(y_test, y_pred, average='weighted')\n",
    "    precision = precision_score(y_test, y_pred, average='weighted', zero_division=0)\n",
    "    f1 = f1_score(y_test, y_pred, average='weighted')\n",
    "    recall_scores.append(recall)\n",
    "    precision_scores.append(precision)\n",
    "    f1_scores.append(f1)\n",
    "best_recall_depth = np.argmax(recall_scores) + 1\n",
    "print(f\"Depth with the highest recall: {best_recall_depth}\")\n",
    "print(\"Reason: A higher depth might allow the tree to capture more complex patterns in the data, leading to better identification of positive cases and thus higher recall.\")\n",
    "lowest_precision_depth = np.argmin(precision_scores) + 1\n",
    "print(f\"Depth with the lowest precision: {lowest_precision_depth}\")\n",
    "print(\"Reason: A very deep tree might overfit the training data, leading to false positives and thus lower precision.\")\n",
    "best_f1_depth = np.argmax(f1_scores) + 1\n",
    "print(f\"Depth with the best F1 score: {best_f1_depth}\")\n",
    "print(\"Micro: Calculates metrics globally by counting the total true positives, false negatives, and false positives. It gives equal weight to each individual prediction.\")\n",
    "print(\"Macro: Calculates metrics for each class separately and then takes the unweighted average. It treats all classes equally, regardless of their prevalence.\")\n",
    "print(\"Weighted: Calculates metrics for each class separately and then takes the average, weighted by the number of samples in each class. It is useful when dealing with imbalanced datasets.\")"
   ]
  },
  {
   "cell_type": "code",
   "execution_count": null,
   "id": "ee55d4e6-d1b0-4eca-8804-2819e3cfb630",
   "metadata": {},
   "outputs": [],
   "source": []
  }
 ],
 "metadata": {
  "kernelspec": {
   "display_name": "Python 3 (ipykernel)",
   "language": "python",
   "name": "python3"
  },
  "language_info": {
   "codemirror_mode": {
    "name": "ipython",
    "version": 3
   },
   "file_extension": ".py",
   "mimetype": "text/x-python",
   "name": "python",
   "nbconvert_exporter": "python",
   "pygments_lexer": "ipython3",
   "version": "3.11.7"
  }
 },
 "nbformat": 4,
 "nbformat_minor": 5
}
